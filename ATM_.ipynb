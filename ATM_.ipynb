{
  "nbformat": 4,
  "nbformat_minor": 0,
  "metadata": {
    "colab": {
      "name": "ATM .ipynb",
      "provenance": []
    },
    "kernelspec": {
      "name": "python3",
      "display_name": "Python 3"
    },
    "language_info": {
      "name": "python"
    }
  },
  "cells": [
    {
      "cell_type": "code",
      "metadata": {
        "id": "MhcpjFl27AGv"
      },
      "source": [
        "n=int(input())\n",
        "l=[]\n",
        "c=0\n",
        "for i in range(1,n+1):\n",
        "    if n%i==0:\n",
        "        c=c+1\n",
        "        l.append(i)\n",
        "print(c)\n",
        "for j in l:\n",
        "    print(j,end=\" \")\n",
        "        \n",
        "        "
      ],
      "execution_count": null,
      "outputs": []
    }
  ]
}