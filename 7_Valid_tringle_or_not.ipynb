{
  "nbformat": 4,
  "nbformat_minor": 0,
  "metadata": {
    "colab": {
      "name": "7#Valid tringle or not.ipynb",
      "provenance": []
    },
    "kernelspec": {
      "name": "python3",
      "display_name": "Python 3"
    },
    "language_info": {
      "name": "python"
    }
  },
  "cells": [
    {
      "cell_type": "code",
      "metadata": {
        "colab": {
          "base_uri": "https://localhost:8080/"
        },
        "id": "FKHDaCFOaax5",
        "outputId": "ad9e6d00-cd4e-4f47-83a7-d08218d6b865"
      },
      "source": [
        "l=list(map(int,input().split()))\n",
        "a,b,c=sorted(l)\n",
        "s=(a+b+c)//2\n",
        "area=(s*(s-a)*(s-b)*(s-c))**0.5\n",
        "if(a+b>=c and a+c>=b and b+c>=a):\n",
        "    if area>=0:\n",
        "        print(\"YES\")\n",
        "else:\n",
        "    print(\"NO\")"
      ],
      "execution_count": 5,
      "outputs": [
        {
          "output_type": "stream",
          "text": [
            "1 1 4\n",
            "NO\n"
          ],
          "name": "stdout"
        }
      ]
    },
    {
      "cell_type": "code",
      "metadata": {
        "id": "NwUOwtvG1v9o"
      },
      "source": [
        ""
      ],
      "execution_count": null,
      "outputs": []
    }
  ]
}