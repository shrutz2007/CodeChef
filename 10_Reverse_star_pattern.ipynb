{
  "nbformat": 4,
  "nbformat_minor": 0,
  "metadata": {
    "colab": {
      "name": "10#Reverse star pattern.ipynb",
      "provenance": []
    },
    "kernelspec": {
      "name": "python3",
      "display_name": "Python 3"
    },
    "language_info": {
      "name": "python"
    }
  },
  "cells": [
    {
      "cell_type": "code",
      "metadata": {
        "colab": {
          "base_uri": "https://localhost:8080/"
        },
        "id": "FKHDaCFOaax5",
        "outputId": "13cd14f6-8199-48b4-900c-2627ab44a046"
      },
      "source": [
        "n=int(input())\n",
        "for i in range(1,n+1):\n",
        "    for k in range(1,n-i):\n",
        "        print(\" \",end=\"\")\n",
        "    for j in range(1,i+1):\n",
        "        print(\"*\",end=\"\")\n",
        "    print(\"\\n\")"
      ],
      "execution_count": 1,
      "outputs": [
        {
          "output_type": "stream",
          "text": [
            "4\n",
            "  *\n",
            "\n",
            " **\n",
            "\n",
            "***\n",
            "\n",
            "****\n",
            "\n"
          ],
          "name": "stdout"
        }
      ]
    },
    {
      "cell_type": "code",
      "metadata": {
        "id": "NwUOwtvG1v9o"
      },
      "source": [
        ""
      ],
      "execution_count": null,
      "outputs": []
    }
  ]
}