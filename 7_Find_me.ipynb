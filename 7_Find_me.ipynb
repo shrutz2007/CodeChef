{
  "nbformat": 4,
  "nbformat_minor": 0,
  "metadata": {
    "colab": {
      "name": "7#Find me.ipynb",
      "provenance": []
    },
    "kernelspec": {
      "name": "python3",
      "display_name": "Python 3"
    },
    "language_info": {
      "name": "python"
    }
  },
  "cells": [
    {
      "cell_type": "code",
      "metadata": {
        "colab": {
          "base_uri": "https://localhost:8080/"
        },
        "id": "FKHDaCFOaax5",
        "outputId": "73b79246-bb3d-4972-b4f2-829d3f3515b6"
      },
      "source": [
        "a,b=map(int,input().split())\n",
        "c=list(map(int,input().split()))\n",
        "if b in c:\n",
        "    print(1)\n",
        "else:\n",
        "    print(-1)"
      ],
      "execution_count": 9,
      "outputs": [
        {
          "output_type": "stream",
          "text": [
            "4 4\n",
            "1 2 6 9\n",
            "-1\n"
          ],
          "name": "stdout"
        }
      ]
    },
    {
      "cell_type": "code",
      "metadata": {
        "id": "NwUOwtvG1v9o"
      },
      "source": [
        ""
      ],
      "execution_count": null,
      "outputs": []
    }
  ]
}