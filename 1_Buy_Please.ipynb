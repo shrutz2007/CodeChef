{
  "nbformat": 4,
  "nbformat_minor": 0,
  "metadata": {
    "colab": {
      "name": "1#Buy Please.ipynb",
      "provenance": []
    },
    "kernelspec": {
      "name": "python3",
      "display_name": "Python 3"
    },
    "language_info": {
      "name": "python"
    }
  },
  "cells": [
    {
      "cell_type": "code",
      "metadata": {
        "colab": {
          "base_uri": "https://localhost:8080/"
        },
        "id": "FKHDaCFOaax5",
        "outputId": "8f38d172-0609-4820-e16a-386042d98e4d"
      },
      "source": [
        "a,b,x,y=map(int,input().split(\" \"))\n",
        "# cook your dish here\n",
        "print(a*x+b*y)"
      ],
      "execution_count": 6,
      "outputs": [
        {
          "output_type": "stream",
          "text": [
            "1 2 5 4\n",
            "13\n"
          ],
          "name": "stdout"
        }
      ]
    }
  ]
}