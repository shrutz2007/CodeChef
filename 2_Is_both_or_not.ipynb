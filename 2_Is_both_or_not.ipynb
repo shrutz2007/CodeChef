{
  "nbformat": 4,
  "nbformat_minor": 0,
  "metadata": {
    "colab": {
      "name": "2#Is both or not.ipynb",
      "provenance": []
    },
    "kernelspec": {
      "name": "python3",
      "display_name": "Python 3"
    },
    "language_info": {
      "name": "python"
    }
  },
  "cells": [
    {
      "cell_type": "code",
      "metadata": {
        "colab": {
          "base_uri": "https://localhost:8080/"
        },
        "id": "FKHDaCFOaax5",
        "outputId": "3a3baa86-4945-4b69-9e49-99bbca8526e6"
      },
      "source": [
        "N=int(input())\n",
        "if(N%11!=0 and N%5==0) or (N%11==0 and N%5!=0) :\n",
        "    print(\"ONE\")\n",
        "elif(N%11==0 and N%5==0):\n",
        "    print(\"BOTH\")\n",
        "else:\n",
        "    print(\"NONE\")"
      ],
      "execution_count": 5,
      "outputs": [
        {
          "output_type": "stream",
          "text": [
            "55\n",
            "BOTH\n"
          ],
          "name": "stdout"
        }
      ]
    }
  ]
}