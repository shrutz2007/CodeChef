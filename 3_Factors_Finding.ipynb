{
  "nbformat": 4,
  "nbformat_minor": 0,
  "metadata": {
    "colab": {
      "name": "3#Factors Finding.ipynb",
      "provenance": []
    },
    "kernelspec": {
      "name": "python3",
      "display_name": "Python 3"
    },
    "language_info": {
      "name": "python"
    }
  },
  "cells": [
    {
      "cell_type": "code",
      "metadata": {
        "colab": {
          "base_uri": "https://localhost:8080/"
        },
        "id": "FKHDaCFOaax5",
        "outputId": "40b8073a-894a-4238-a5f0-e230ab7e3d49"
      },
      "source": [
        "n=int(input())\n",
        "l=[]\n",
        "c=0\n",
        "for i in range(1,n+1):\n",
        "    if n%i==0:\n",
        "        c=c+1\n",
        "        l.append(i)\n",
        "print(c)\n",
        "for j in l:\n",
        "    print(j,end=\" \")"
      ],
      "execution_count": 3,
      "outputs": [
        {
          "output_type": "stream",
          "text": [
            "6\n",
            "4\n",
            "1 2 3 6 "
          ],
          "name": "stdout"
        }
      ]
    },
    {
      "cell_type": "code",
      "metadata": {
        "colab": {
          "base_uri": "https://localhost:8080/"
        },
        "id": "E9CFjW-PXjcQ",
        "outputId": "280e1bac-f661-4bf0-ae29-db32985d3ffc"
      },
      "source": [
        "n=int(input())\n",
        "for i in range(1,n+1):\n",
        "  if n%i==0:\n",
        "    print(i,end=\" \")"
      ],
      "execution_count": 2,
      "outputs": [
        {
          "output_type": "stream",
          "text": [
            "6\n",
            "1 2 3 6 "
          ],
          "name": "stdout"
        }
      ]
    }
  ]
}