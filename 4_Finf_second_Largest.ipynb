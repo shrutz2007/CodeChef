{
  "nbformat": 4,
  "nbformat_minor": 0,
  "metadata": {
    "colab": {
      "name": "4#Finf second Largest.ipynb",
      "provenance": []
    },
    "kernelspec": {
      "name": "python3",
      "display_name": "Python 3"
    },
    "language_info": {
      "name": "python"
    }
  },
  "cells": [
    {
      "cell_type": "code",
      "metadata": {
        "colab": {
          "base_uri": "https://localhost:8080/"
        },
        "id": "FKHDaCFOaax5",
        "outputId": "bdc75869-c9cb-492d-a3d5-19eb5dec0507"
      },
      "source": [
        "l=[]\n",
        "for i in range(3):\n",
        "    l.append(int(input()))\n",
        "l.sort()\n",
        "print(l[1])"
      ],
      "execution_count": 7,
      "outputs": [
        {
          "output_type": "stream",
          "text": [
            "14\n",
            "28\n",
            "16\n",
            "16\n"
          ],
          "name": "stdout"
        }
      ]
    }
  ]
}